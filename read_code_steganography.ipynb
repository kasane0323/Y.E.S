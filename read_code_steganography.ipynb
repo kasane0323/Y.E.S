{
 "cells": [
  {
   "cell_type": "code",
   "execution_count": null,
   "id": "98c42412",
   "metadata": {},
   "outputs": [],
   "source": [
    "from PIL import Image\n",
    "\n",
    "img = Image.open(\"/Users/kenichiroharuna/Y.E.S./result_img3.png\")\n",
    "rgba_img = img.convert('RGBA')\n",
    "size = rgba_img.size\n",
    "\n",
    "#いらない？\n",
    "\n",
    "# flag = False\n",
    "# cnt = 0\n",
    "# total_pixels = size[0] * size[1]  # 画像内の総ピクセル数\n",
    "\n",
    "for y in range(1):\n",
    "    for x in range(20):\n",
    "        r,g,b,a = rgba_img.getpixel((x,y))\n",
    "        r = r % 3\n",
    "        g = g % 4\n",
    "        b = b % 5\n",
    "        if r == 1:\n",
    "            if g == 0:\n",
    "                if b == 3:\n",
    "                    print(\"0\", end=\"\")\n",
    "                elif b == 4:\n",
    "                    print(\"1\", end=\"\")\n",
    "            if g == 1:\n",
    "                if b == 0:\n",
    "                    print(\"2\", end=\"\")\n",
    "                elif b == 1:\n",
    "                    print(\"3\", end=\"\")\n",
    "                elif b == 2:\n",
    "                    print(\"4\", end=\"\")\n",
    "                elif b == 3:\n",
    "                    print(\"5\", end=\"\")\n",
    "                elif b == 4:\n",
    "                    print(\"6\", end=\"\")\n",
    "            if g == 2:\n",
    "                if b == 0:\n",
    "                    print(\"7\", end=\"\")\n",
    "                elif b == 1:\n",
    "                    print(\"8\", end=\"\")\n",
    "                elif b == 2:\n",
    "                    print(\"9\", end=\"\")"
   ]
  }
 ],
 "metadata": {
  "kernelspec": {
   "display_name": "Python 3 (ipykernel)",
   "language": "python",
   "name": "python3"
  },
  "language_info": {
   "codemirror_mode": {
    "name": "ipython",
    "version": 3
   },
   "file_extension": ".py",
   "mimetype": "text/x-python",
   "name": "python",
   "nbconvert_exporter": "python",
   "pygments_lexer": "ipython3",
   "version": "3.9.12"
  }
 },
 "nbformat": 4,
 "nbformat_minor": 5
}
