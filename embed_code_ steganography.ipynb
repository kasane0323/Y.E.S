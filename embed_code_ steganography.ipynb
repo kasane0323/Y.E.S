{
 "cells": [
  {
   "cell_type": "code",
   "execution_count": null,
   "id": "17890026",
   "metadata": {},
   "outputs": [],
   "source": [
    "import os\n",
    "from PIL import Image\n",
    "import sys\n",
    "#画像に隠蔽するテキストファイルを開く\n",
    "with open('/Users/kenichiroharuna/Y.E.S./text3.txt', 'r') as f:\n",
    "    txt = list(f.read().rstrip())\n",
    "#元画像を開く\n",
    "img = Image.open(\"/Users/kenichiroharuna/Y.E.S./image/img2.png\")\n",
    "rgba_img = img.convert('RGBA')\n",
    "size = rgba_img.size\n",
    "result = Image.new('RGBA',size)\n",
    "result.paste(rgba_img, (0, 0))\n",
    "flag = False\n",
    "cnt = 0\n",
    "for y in range(size[1]):\n",
    "    for x in range(size[0]):\n",
    "        r,g,b,a = rgba_img.getpixel((x,y))\n",
    "        r = r // 3 * 3\n",
    "        g = g // 4 * 4\n",
    "        b = b // 5 * 5\n",
    "        get_ord = ord(txt[cnt])\n",
    "        #Rの処理\n",
    "        #数字\n",
    "        if get_ord >= 48 and get_ord <= 57 :\n",
    "            r += 1\n",
    "        #Gの処理\n",
    "        # 2 ~ 6\n",
    "        if (get_ord >= 50 and get_ord <= 54) :\n",
    "            g += 1\n",
    "        # 7 ~ 9\n",
    "        elif (get_ord >= 55 and get_ord <= 57) :\n",
    "            g += 2\n",
    "        #Bの処理\n",
    "        if get_ord >= 48 and get_ord <= 57:\n",
    "            b += (get_ord - 45) % 5\n",
    "        result.putpixel((x,y),(r,g,b,a))\n",
    "        #終了処理\n",
    "        if cnt == len(txt) - 1 :\n",
    "            flag = True\n",
    "            break\n",
    "        if cnt < len(txt) - 1:\n",
    "            cnt += 1\n",
    "    if flag:\n",
    "        break\n",
    "#画像の出力\n",
    "result.save( '/Users/kenichiroharuna/Y.E.S./result_img3.png' )"
   ]
  }
 ],
 "metadata": {
  "kernelspec": {
   "display_name": "Python 3 (ipykernel)",
   "language": "python",
   "name": "python3"
  },
  "language_info": {
   "codemirror_mode": {
    "name": "ipython",
    "version": 3
   },
   "file_extension": ".py",
   "mimetype": "text/x-python",
   "name": "python",
   "nbconvert_exporter": "python",
   "pygments_lexer": "ipython3",
   "version": "3.9.12"
  }
 },
 "nbformat": 4,
 "nbformat_minor": 5
}
